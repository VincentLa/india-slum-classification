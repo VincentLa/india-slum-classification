{
 "cells": [
  {
   "cell_type": "markdown",
   "metadata": {},
   "source": [
    "# Example of Loading Up Images"
   ]
  },
  {
   "cell_type": "code",
   "execution_count": 1,
   "metadata": {
    "collapsed": true
   },
   "outputs": [],
   "source": [
    "import tensorflow as tf"
   ]
  },
  {
   "cell_type": "code",
   "execution_count": 2,
   "metadata": {
    "collapsed": true
   },
   "outputs": [],
   "source": [
    "# Make a queue of file names including all the JPEG images files in the relative image directory.\n",
    "filename_queue = tf.train.string_input_producer(tf.train.match_filenames_once(\"../images/0_Non/*.png\"))"
   ]
  },
  {
   "cell_type": "code",
   "execution_count": 3,
   "metadata": {
    "collapsed": true
   },
   "outputs": [],
   "source": [
    "image_reader = tf.WholeFileReader()\n"
   ]
  },
  {
   "cell_type": "code",
   "execution_count": 4,
   "metadata": {
    "collapsed": true
   },
   "outputs": [],
   "source": [
    "# Read a whole file from the queue, the first returned value in the tuple is the filename which we are ignoring.\n",
    "_, image_file = image_reader.read(filename_queue)"
   ]
  },
  {
   "cell_type": "code",
   "execution_count": 5,
   "metadata": {
    "collapsed": true
   },
   "outputs": [],
   "source": [
    "image = tf.image.decode_png(image_file)"
   ]
  },
  {
   "cell_type": "code",
   "execution_count": 7,
   "metadata": {
    "collapsed": false
   },
   "outputs": [
    {
     "name": "stdout",
     "output_type": "stream",
     "text": [
      "[array([[[147, 146, 142],\n",
      "        [145, 143, 139],\n",
      "        [143, 143, 139],\n",
      "        ..., \n",
      "        [ 69,  88,  88],\n",
      "        [ 66,  88,  85],\n",
      "        [ 63,  84,  82]],\n",
      "\n",
      "       [[148, 147, 141],\n",
      "        [144, 144, 141],\n",
      "        [144, 143, 139],\n",
      "        ..., \n",
      "        [ 63,  82,  81],\n",
      "        [ 66,  86,  85],\n",
      "        [ 62,  82,  81]],\n",
      "\n",
      "       [[146, 146, 142],\n",
      "        [146, 145, 140],\n",
      "        [146, 145, 141],\n",
      "        ..., \n",
      "        [ 58,  76,  76],\n",
      "        [ 67,  86,  86],\n",
      "        [ 65,  83,  83]],\n",
      "\n",
      "       ..., \n",
      "       [[148, 145, 138],\n",
      "        [143, 142, 134],\n",
      "        [142, 143, 135],\n",
      "        ..., \n",
      "        [ 71,  88,  80],\n",
      "        [ 70,  86,  81],\n",
      "        [ 72,  87,  84]],\n",
      "\n",
      "       [[150, 147, 140],\n",
      "        [146, 146, 138],\n",
      "        [144, 145, 137],\n",
      "        ..., \n",
      "        [ 75,  91,  83],\n",
      "        [ 73,  90,  84],\n",
      "        [ 74,  90,  88]],\n",
      "\n",
      "       [[148, 145, 138],\n",
      "        [149, 148, 140],\n",
      "        [147, 147, 139],\n",
      "        ..., \n",
      "        [ 77,  95,  86],\n",
      "        [ 74,  92,  85],\n",
      "        [ 73,  90,  87]]], dtype=uint8)]\n"
     ]
    }
   ],
   "source": [
    "# Start a new session to show example output.\n",
    "with tf.Session() as sess:\n",
    "    # Required to get the filename matching to run.\n",
    "    tf.initialize_all_variables().run()\n",
    "\n",
    "    # Coordinate the loading of image files.\n",
    "    coord = tf.train.Coordinator()\n",
    "    threads = tf.train.start_queue_runners(coord=coord)\n",
    "\n",
    "    # Get an image tensor and print its value.\n",
    "    image_tensor = sess.run([image])\n",
    "    print(image_tensor)\n",
    "\n",
    "    # Finish off the filename queue coordinator.\n",
    "    coord.request_stop()\n",
    "    coord.join(threads)"
   ]
  },
  {
   "cell_type": "code",
   "execution_count": null,
   "metadata": {
    "collapsed": true
   },
   "outputs": [],
   "source": []
  }
 ],
 "metadata": {
  "kernelspec": {
   "display_name": "Python 3",
   "language": "python",
   "name": "python3"
  },
  "language_info": {
   "codemirror_mode": {
    "name": "ipython",
    "version": 3
   },
   "file_extension": ".py",
   "mimetype": "text/x-python",
   "name": "python",
   "nbconvert_exporter": "python",
   "pygments_lexer": "ipython3",
   "version": "3.5.1"
  }
 },
 "nbformat": 4,
 "nbformat_minor": 0
}
