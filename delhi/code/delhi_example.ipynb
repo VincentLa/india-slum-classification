{
 "cells": [
  {
   "cell_type": "markdown",
   "metadata": {},
   "source": [
    "# Example of Loading Up Images"
   ]
  },
  {
   "cell_type": "markdown",
   "metadata": {},
   "source": [
    "https://gist.github.com/eerwitt/518b0c9564e500b4b50f"
   ]
  },
  {
   "cell_type": "code",
   "execution_count": 2,
   "metadata": {
    "collapsed": true
   },
   "outputs": [],
   "source": [
    "import tensorflow as tf"
   ]
  },
  {
   "cell_type": "code",
   "execution_count": 3,
   "metadata": {
    "collapsed": true
   },
   "outputs": [],
   "source": [
    "# Make a queue of file names including all the JPEG images files in the relative image directory.\n",
    "filename_queue = tf.train.string_input_producer(tf.train.match_filenames_once(\"../images/0_Non/*.png\"))"
   ]
  },
  {
   "cell_type": "code",
   "execution_count": 4,
   "metadata": {
    "collapsed": true
   },
   "outputs": [],
   "source": [
    "image_reader = tf.WholeFileReader()\n"
   ]
  },
  {
   "cell_type": "code",
   "execution_count": 5,
   "metadata": {
    "collapsed": true
   },
   "outputs": [],
   "source": [
    "# Read a whole file from the queue, the first returned value in the tuple is the filename which we are ignoring.\n",
    "_, image_file = image_reader.read(filename_queue)"
   ]
  },
  {
   "cell_type": "code",
   "execution_count": 6,
   "metadata": {
    "collapsed": true
   },
   "outputs": [],
   "source": [
    "image = tf.image.decode_png(image_file)"
   ]
  },
  {
   "cell_type": "code",
   "execution_count": 7,
   "metadata": {
    "collapsed": false
   },
   "outputs": [
    {
     "name": "stdout",
     "output_type": "stream",
     "text": [
      "[array([[[127, 127, 129],\n",
      "        [142, 142, 143],\n",
      "        [145, 145, 145],\n",
      "        ..., \n",
      "        [ 51,  58,  59],\n",
      "        [ 52,  57,  61],\n",
      "        [ 52,  57,  61]],\n",
      "\n",
      "       [[143, 144, 144],\n",
      "        [149, 149, 151],\n",
      "        [147, 147, 148],\n",
      "        ..., \n",
      "        [ 57,  62,  66],\n",
      "        [ 55,  59,  66],\n",
      "        [ 53,  57,  63]],\n",
      "\n",
      "       [[172, 173, 173],\n",
      "        [166, 165, 165],\n",
      "        [151, 151, 152],\n",
      "        ..., \n",
      "        [ 61,  66,  69],\n",
      "        [ 55,  59,  65],\n",
      "        [ 54,  58,  65]],\n",
      "\n",
      "       ..., \n",
      "       [[ 77,  72,  80],\n",
      "        [ 71,  67,  76],\n",
      "        [ 68,  65,  74],\n",
      "        ..., \n",
      "        [126, 119, 117],\n",
      "        [117, 113, 109],\n",
      "        [111, 108, 103]],\n",
      "\n",
      "       [[ 81,  77,  85],\n",
      "        [ 75,  70,  81],\n",
      "        [ 71,  66,  77],\n",
      "        ..., \n",
      "        [123, 118, 114],\n",
      "        [116, 112, 108],\n",
      "        [110, 108, 102]],\n",
      "\n",
      "       [[ 81,  76,  85],\n",
      "        [ 75,  69,  80],\n",
      "        [ 70,  66,  76],\n",
      "        ..., \n",
      "        [122, 117, 114],\n",
      "        [113, 110, 105],\n",
      "        [109, 108, 101]]], dtype=uint8)]\n"
     ]
    }
   ],
   "source": [
    "# Start a new session to show example output.\n",
    "with tf.Session() as sess:\n",
    "    # Required to get the filename matching to run.\n",
    "    tf.initialize_all_variables().run()\n",
    "\n",
    "    # Coordinate the loading of image files.\n",
    "    coord = tf.train.Coordinator()\n",
    "    threads = tf.train.start_queue_runners(coord=coord)\n",
    "\n",
    "    # Get an image tensor and print its value.\n",
    "    image_tensor = sess.run([image])\n",
    "    print(image_tensor)\n",
    "\n",
    "    # Finish off the filename queue coordinator.\n",
    "    coord.request_stop()\n",
    "    coord.join(threads)"
   ]
  },
  {
   "cell_type": "markdown",
   "metadata": {
    "collapsed": true
   },
   "source": [
    "# Creating Data set out of Image"
   ]
  },
  {
   "cell_type": "code",
   "execution_count": 8,
   "metadata": {
    "collapsed": false
   },
   "outputs": [
    {
     "data": {
      "text/plain": [
       "<tf.Tensor 'DecodePng:0' shape=(?, ?, ?) dtype=uint8>"
      ]
     },
     "execution_count": 8,
     "metadata": {},
     "output_type": "execute_result"
    }
   ],
   "source": [
    "image"
   ]
  },
  {
   "cell_type": "code",
   "execution_count": 12,
   "metadata": {
    "collapsed": false
   },
   "outputs": [
    {
     "data": {
      "text/plain": [
       "TensorShape([Dimension(None), Dimension(None), Dimension(None)])"
      ]
     },
     "execution_count": 12,
     "metadata": {},
     "output_type": "execute_result"
    }
   ],
   "source": [
    "image.get_shape()"
   ]
  },
  {
   "cell_type": "code",
   "execution_count": 13,
   "metadata": {
    "collapsed": false
   },
   "outputs": [
    {
     "data": {
      "text/plain": [
       "[array([[[127, 127, 129],\n",
       "         [142, 142, 143],\n",
       "         [145, 145, 145],\n",
       "         ..., \n",
       "         [ 51,  58,  59],\n",
       "         [ 52,  57,  61],\n",
       "         [ 52,  57,  61]],\n",
       " \n",
       "        [[143, 144, 144],\n",
       "         [149, 149, 151],\n",
       "         [147, 147, 148],\n",
       "         ..., \n",
       "         [ 57,  62,  66],\n",
       "         [ 55,  59,  66],\n",
       "         [ 53,  57,  63]],\n",
       " \n",
       "        [[172, 173, 173],\n",
       "         [166, 165, 165],\n",
       "         [151, 151, 152],\n",
       "         ..., \n",
       "         [ 61,  66,  69],\n",
       "         [ 55,  59,  65],\n",
       "         [ 54,  58,  65]],\n",
       " \n",
       "        ..., \n",
       "        [[ 77,  72,  80],\n",
       "         [ 71,  67,  76],\n",
       "         [ 68,  65,  74],\n",
       "         ..., \n",
       "         [126, 119, 117],\n",
       "         [117, 113, 109],\n",
       "         [111, 108, 103]],\n",
       " \n",
       "        [[ 81,  77,  85],\n",
       "         [ 75,  70,  81],\n",
       "         [ 71,  66,  77],\n",
       "         ..., \n",
       "         [123, 118, 114],\n",
       "         [116, 112, 108],\n",
       "         [110, 108, 102]],\n",
       " \n",
       "        [[ 81,  76,  85],\n",
       "         [ 75,  69,  80],\n",
       "         [ 70,  66,  76],\n",
       "         ..., \n",
       "         [122, 117, 114],\n",
       "         [113, 110, 105],\n",
       "         [109, 108, 101]]], dtype=uint8)]"
      ]
     },
     "execution_count": 13,
     "metadata": {},
     "output_type": "execute_result"
    }
   ],
   "source": [
    "image_tensor"
   ]
  },
  {
   "cell_type": "code",
   "execution_count": 14,
   "metadata": {
    "collapsed": false
   },
   "outputs": [
    {
     "ename": "NameError",
     "evalue": "name 'Dataset' is not defined",
     "output_type": "error",
     "traceback": [
      "\u001b[0;31m---------------------------------------------------------------------------\u001b[0m",
      "\u001b[0;31mNameError\u001b[0m                                 Traceback (most recent call last)",
      "\u001b[0;32m<ipython-input-14-d1f8c9b201f2>\u001b[0m in \u001b[0;36m<module>\u001b[0;34m()\u001b[0m\n\u001b[0;32m----> 1\u001b[0;31m \u001b[0mDataset\u001b[0m\u001b[0;34m(\u001b[0m\u001b[0mimage_tensor\u001b[0m\u001b[0;34m)\u001b[0m\u001b[0;34m\u001b[0m\u001b[0m\n\u001b[0m",
      "\u001b[0;31mNameError\u001b[0m: name 'Dataset' is not defined"
     ]
    }
   ],
   "source": [
    "Dataset(image_tensor)"
   ]
  },
  {
   "cell_type": "code",
   "execution_count": null,
   "metadata": {
    "collapsed": true
   },
   "outputs": [],
   "source": []
  }
 ],
 "metadata": {
  "kernelspec": {
   "display_name": "Python 3",
   "language": "python",
   "name": "python3"
  },
  "language_info": {
   "codemirror_mode": {
    "name": "ipython",
    "version": 3
   },
   "file_extension": ".py",
   "mimetype": "text/x-python",
   "name": "python",
   "nbconvert_exporter": "python",
   "pygments_lexer": "ipython3",
   "version": "3.5.1"
  }
 },
 "nbformat": 4,
 "nbformat_minor": 0
}
